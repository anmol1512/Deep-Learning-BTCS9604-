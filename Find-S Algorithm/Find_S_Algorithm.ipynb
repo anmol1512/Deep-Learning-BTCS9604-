{
  "nbformat": 4,
  "nbformat_minor": 0,
  "metadata": {
    "colab": {
      "name": "Find-S Algorithm.ipynb",
      "provenance": []
    },
    "kernelspec": {
      "name": "python3",
      "display_name": "Python 3"
    },
    "language_info": {
      "name": "python"
    }
  },
  "cells": [
    {
      "cell_type": "code",
      "metadata": {
        "colab": {
          "base_uri": "https://localhost:8080/"
        },
        "id": "E3-3x6Np1scT",
        "outputId": "487ee159-66b1-41cc-e7ce-777960c7efb7"
      },
      "source": [
        "import random\n",
        "import csv\n",
        "\n",
        "\n",
        "attributes = [['Sunny','Rainy'],\n",
        "              ['Warm','Cold'],\n",
        "              ['Normal','High'],\n",
        "              ['Strong','Weak'],\n",
        "              ['Warm','Cool'],\n",
        "              ['Same','Change']]\n",
        "\n",
        "\n",
        "num_attributes = len(attributes)\n",
        "\n",
        "\n",
        "print (\" \\n The most general hypothesis : ['?','?','?','?','?','?']\\n\")\n",
        "print (\"\\n The most specific hypothesis : ['0','0','0','0','0','0']\\n\")\n",
        "\n",
        "a = []\n",
        "print(\"\\n The Given Training Data Set \\n\")\n",
        "\n",
        "with open('/content/ws.csv', 'r') as csvFile:\n",
        "    reader = csv.reader(csvFile)\n",
        "    for row in reader:\n",
        "        a.append (row)\n",
        "        print(row)\n",
        "\n",
        "\n",
        "print(\"\\n The initial value of hypothesis: \")\n",
        "hypothesis = ['0'] * num_attributes\n",
        "print(hypothesis)\n",
        "\n",
        "# Comparing with First Training Example \n",
        "for j in range(0,num_attributes):\n",
        "        hypothesis[j] = a[0][j];\n",
        "\n",
        "# Comparing with Remaining Training Examples of Given Data Set\n",
        "\n",
        "print(\"\\n Find S: Finding a Maximally Specific Hypothesis\\n\")\n",
        "\n",
        "for i in range(0,len(a)):\n",
        "    if a[i][num_attributes]=='Yes':\n",
        "            for j in range(0,num_attributes):\n",
        "                if a[i][j]!=hypothesis[j]:\n",
        "                    hypothesis[j]='?'\n",
        "                else :\n",
        "                    hypothesis[j]= a[i][j] \n",
        "    print(\" For Training Example No :{0} the hypothesis is \".format(i),hypothesis)\n",
        "                \n",
        "print(\"\\n The Maximally Specific Hypothesis for a given Training Examples :\\n\")\n",
        "print(hypothesis)   \n",
        "    \n"
      ],
      "execution_count": 4,
      "outputs": [
        {
          "output_type": "stream",
          "name": "stdout",
          "text": [
            " \n",
            " The most general hypothesis : ['?','?','?','?','?','?']\n",
            "\n",
            "\n",
            " The most specific hypothesis : ['0','0','0','0','0','0']\n",
            "\n",
            "\n",
            " The Given Training Data Set \n",
            "\n",
            "['Sunny', 'Warm', 'Normal', 'Strong', 'Warm', 'Same', 'Yes']\n",
            "['Sunny', 'Warm', 'High', 'Strong', 'Warm', 'Same', 'Yes']\n",
            "['Rainy', 'Cold', 'High', 'Strong', 'Warm', 'Change', 'No']\n",
            "['Sunny', 'Warm', 'High', 'Strong', 'Cool', 'Change', 'Yes']\n",
            "\n",
            " The initial value of hypothesis: \n",
            "['0', '0', '0', '0', '0', '0']\n",
            "\n",
            " Find S: Finding a Maximally Specific Hypothesis\n",
            "\n",
            " For Training Example No :0 the hypothesis is  ['Sunny', 'Warm', 'Normal', 'Strong', 'Warm', 'Same']\n",
            " For Training Example No :1 the hypothesis is  ['Sunny', 'Warm', '?', 'Strong', 'Warm', 'Same']\n",
            " For Training Example No :2 the hypothesis is  ['Sunny', 'Warm', '?', 'Strong', 'Warm', 'Same']\n",
            " For Training Example No :3 the hypothesis is  ['Sunny', 'Warm', '?', 'Strong', '?', '?']\n",
            "\n",
            " The Maximally Specific Hypothesis for a given Training Examples :\n",
            "\n",
            "['Sunny', 'Warm', '?', 'Strong', '?', '?']\n"
          ]
        }
      ]
    }
  ]
}