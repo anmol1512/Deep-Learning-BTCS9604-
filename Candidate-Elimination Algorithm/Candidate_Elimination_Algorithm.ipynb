{
  "nbformat": 4,
  "nbformat_minor": 0,
  "metadata": {
    "kernelspec": {
      "display_name": "Python 3",
      "language": "python",
      "name": "python3"
    },
    "language_info": {
      "codemirror_mode": {
        "name": "ipython",
        "version": 3
      },
      "file_extension": ".py",
      "mimetype": "text/x-python",
      "name": "python",
      "nbconvert_exporter": "python",
      "pygments_lexer": "ipython3",
      "version": "3.6.5"
    },
    "colab": {
      "name": "Candidate-Elimination Algorithm.ipynb",
      "provenance": []
    }
  },
  "cells": [
    {
      "cell_type": "markdown",
      "metadata": {
        "id": "MYeOYWM3O-fC"
      },
      "source": [
        "####For a given set of training data examples stored in a .CSV file, implement and demonstrate the Candidate-Elimination algorithm to output a description of the set of all hypotheses consistent with the training examples."
      ]
    },
    {
      "cell_type": "code",
      "metadata": {
        "colab": {
          "base_uri": "https://localhost:8080/"
        },
        "id": "BtSSF_cPO-fP",
        "outputId": "942413c4-ffc5-469f-e028-c79cf6c4c84a"
      },
      "source": [
        "import csv\n",
        "# open the CSVFile and keep all rows as list of tuples\n",
        "with open('/content/EconomyCar.csv') as csvFile:\n",
        "    examples = [tuple(line) for line in csv.reader(csvFile)]\n",
        "print(examples)"
      ],
      "execution_count": 4,
      "outputs": [
        {
          "output_type": "stream",
          "name": "stdout",
          "text": [
            "[('Japan ', 'Honda', 'Blue ', '1980', 'Economy', 'Yes'), ('Japan ', 'Toyota', 'Green', '1970', 'Sports', 'No'), ('Japan ', 'Toyota', 'Blue ', '1990', 'Economy', 'Yes'), ('USA', 'Chrysler', 'Red', '1980', 'Economy', 'No'), ('Japan ', 'Honda', 'White', '1980', 'Economy', 'Yes')]\n"
          ]
        }
      ]
    },
    {
      "cell_type": "code",
      "metadata": {
        "colab": {
          "base_uri": "https://localhost:8080/"
        },
        "id": "h7N0UR6ZO-fY",
        "outputId": "eed66aa8-45aa-4064-f12a-4bb7c3ba6d0a"
      },
      "source": [
        "# To obtain the domain of attribute values defined in the instances X\n",
        "def get_domains(examples):\n",
        "    # set function returns the unordered collection of items with no duplicates\n",
        "    d = [set() for i in examples[0]] \n",
        "    for x in examples:\n",
        "        #Enumerate() function adds a counter to an iterable and returns it in a form of enumerate object i.e(index,value)\n",
        "        for i, xi in enumerate(x):\n",
        "            d[i].add(xi)\n",
        "    return [list(sorted(x)) for x in d]\n",
        "# Test the get_domains function\n",
        "get_domains(examples)"
      ],
      "execution_count": 5,
      "outputs": [
        {
          "output_type": "execute_result",
          "data": {
            "text/plain": [
              "[['Japan ', 'USA'],\n",
              " ['Chrysler', 'Honda', 'Toyota'],\n",
              " ['Blue ', 'Green', 'Red', 'White'],\n",
              " ['1970', '1980', '1990'],\n",
              " ['Economy', 'Sports'],\n",
              " ['No', 'Yes']]"
            ]
          },
          "metadata": {},
          "execution_count": 5
        }
      ]
    },
    {
      "cell_type": "code",
      "metadata": {
        "collapsed": true,
        "id": "f-8n_cRjO-fa"
      },
      "source": [
        "# Repeat the '?' and '0' length of domain no of times\n",
        "def g_0(n):\n",
        "    return ('?',)*n\n",
        "\n",
        "def s_0(n):\n",
        "    return ('0',)*n  "
      ],
      "execution_count": 6,
      "outputs": []
    },
    {
      "cell_type": "code",
      "metadata": {
        "collapsed": true,
        "id": "1B4qJjCrO-fb"
      },
      "source": [
        "# Function to check generality between two hypothesis\n",
        "def more_general(h1, h2):\n",
        "    more_general_parts = []\n",
        "    for x, y in zip(h1, h2):\n",
        "        mg = x == '?' or (x != '0' and (x == y or y == '0'))\n",
        "        more_general_parts.append(mg)\n",
        "    return all(more_general_parts) # Returns true if all elements of list or tuple are true\n",
        "\n",
        "# Function to check whether train examples are consistent with hypothesis\n",
        "def consistent(hypothesis,example):\n",
        "    return more_general(hypothesis, example)\n"
      ],
      "execution_count": 7,
      "outputs": []
    },
    {
      "cell_type": "code",
      "metadata": {
        "collapsed": true,
        "pixiedust": {
          "displayParams": {}
        },
        "id": "cZvoDpTLO-fd"
      },
      "source": [
        "# Function to add min_generalizations\n",
        "def min_generalizations(h, x):\n",
        "    h_new = list(h)\n",
        "    for i in range(len(h)):\n",
        "        if not consistent(h[i:i+1],x[i:i+1]):\n",
        "            if h[i] != '0':\n",
        "                h_new[i] = '?'\n",
        "            else:\n",
        "                h_new[i] = x[i]\n",
        "    return [tuple(h_new)]\n",
        "\n",
        "# Function to generalize Specific hypto\n",
        "def generalize_S(x, G, S):\n",
        "    S_prev = list(S)\n",
        "    for s in S_prev:\n",
        "        if s not in S:\n",
        "            continue\n",
        "        if not consistent(s,x):\n",
        "            S.remove(s)\n",
        "            Splus = min_generalizations(s, x)\n",
        "            # Keep only generalizations that have a counterpart in G\n",
        "            S.update([h for h in Splus if any([more_general(g,h) \n",
        "                                               for g in G])])\n",
        "            # Remove from S any hypothesis more general than any other hypothesis in S\n",
        "            S.difference_update([h for h in S if \n",
        "                                 any([more_general(h, h1) \n",
        "                                      for h1 in S if h != h1])])\n",
        "    return S"
      ],
      "execution_count": 8,
      "outputs": []
    },
    {
      "cell_type": "code",
      "metadata": {
        "collapsed": true,
        "id": "udLKQoayO-ff"
      },
      "source": [
        "# Function to add min_specializations\n",
        "def min_specializations(h, domains, x):\n",
        "    results = []\n",
        "    for i in range(len(h)):\n",
        "        if h[i] == '?':\n",
        "            for val in domains[i]:\n",
        "                if x[i] != val:\n",
        "                    h_new = h[:i] + (val,) + h[i+1:]\n",
        "                    results.append(h_new)\n",
        "        elif h[i] != '0':\n",
        "            h_new = h[:i] + ('0',) + h[i+1:]\n",
        "            results.append(h_new)\n",
        "    return results\n",
        "\n",
        "# Function to specialize General hypotheses boundary\n",
        "def specialize_G(x, domains, G, S):\n",
        "    G_prev = list(G)\n",
        "    for g in G_prev:\n",
        "        if g not in G:\n",
        "            continue\n",
        "        if consistent(g,x):\n",
        "            G.remove(g)\n",
        "            Gminus = min_specializations(g, domains, x)\n",
        "            # Keep only specializations that have a counterpart in S\n",
        "            G.update([h for h in Gminus if any([more_general(h, s)\n",
        "                                                for s in S])])\n",
        "            # Remove hypothesis less general than any other hypothesis in G\n",
        "            G.difference_update([h for h in G if \n",
        "                                 any([more_general(g1, h) \n",
        "                                      for g1 in G if h != g1])])\n",
        "    return G"
      ],
      "execution_count": 9,
      "outputs": []
    },
    {
      "cell_type": "code",
      "metadata": {
        "collapsed": true,
        "id": "iLSRnFbdO-fg"
      },
      "source": [
        "# Function to perform CandidateElimination\n",
        "def candidate_elimination(examples):\n",
        "    domains = get_domains(examples)[:-1] \n",
        "    \n",
        "    G = set([g_0(len(domains))])\n",
        "    S = set([s_0(len(domains))])\n",
        "    i=0\n",
        "    print('All the hypotheses in General and Specific boundary are:\\n')\n",
        "    print('\\n G[{0}]:'.format(i),G)\n",
        "    print('\\n S[{0}]:'.format(i),S)\n",
        "    for xcx in examples:\n",
        "        i=i+1\n",
        "        x, cx = xcx[:-1], xcx[-1]  # Splitting data into attributes and decisions\n",
        "        if cx=='Yes': # x is positive example\n",
        "            G = {g for g in G if consistent(g,x)}\n",
        "            S = generalize_S(x, G, S)\n",
        "        else: # x is negative example\n",
        "            S = {s for s in S if not consistent(s,x)}\n",
        "            G = specialize_G(x, domains, G, S)\n",
        "        print('\\n G[{0}]:'.format(i),G)\n",
        "        print('\\n S[{0}]:'.format(i),S)\n",
        "    return "
      ],
      "execution_count": 10,
      "outputs": []
    },
    {
      "cell_type": "code",
      "metadata": {
        "pixiedust": {
          "displayParams": {}
        },
        "scrolled": true,
        "colab": {
          "base_uri": "https://localhost:8080/"
        },
        "id": "cxzuwq73O-fh",
        "outputId": "91ba573b-4eab-4742-e89f-27b922f5da7f"
      },
      "source": [
        "#import pixiedust # Visual debugger\n",
        "#%%pixie_debugger\n",
        "candidate_elimination(examples)"
      ],
      "execution_count": 11,
      "outputs": [
        {
          "output_type": "stream",
          "name": "stdout",
          "text": [
            "All the hypotheses in General and Specific boundary are:\n",
            "\n",
            "\n",
            " G[0]: {('?', '?', '?', '?', '?')}\n",
            "\n",
            " S[0]: {('0', '0', '0', '0', '0')}\n",
            "\n",
            " G[1]: {('?', '?', '?', '?', '?')}\n",
            "\n",
            " S[1]: {('Japan ', 'Honda', 'Blue ', '1980', 'Economy')}\n",
            "\n",
            " G[2]: {('?', 'Honda', '?', '?', '?'), ('?', '?', 'Blue ', '?', '?'), ('?', '?', '?', '?', 'Economy'), ('?', '?', '?', '1980', '?')}\n",
            "\n",
            " S[2]: {('Japan ', 'Honda', 'Blue ', '1980', 'Economy')}\n",
            "\n",
            " G[3]: {('?', '?', 'Blue ', '?', '?'), ('?', '?', '?', '?', 'Economy')}\n",
            "\n",
            " S[3]: {('Japan ', '?', 'Blue ', '?', 'Economy')}\n",
            "\n",
            " G[4]: {('?', '?', 'Blue ', '?', '?'), ('Japan ', '?', '?', '?', 'Economy')}\n",
            "\n",
            " S[4]: {('Japan ', '?', 'Blue ', '?', 'Economy')}\n",
            "\n",
            " G[5]: {('Japan ', '?', '?', '?', 'Economy')}\n",
            "\n",
            " S[5]: {('Japan ', '?', '?', '?', 'Economy')}\n"
          ]
        }
      ]
    }
  ]
}